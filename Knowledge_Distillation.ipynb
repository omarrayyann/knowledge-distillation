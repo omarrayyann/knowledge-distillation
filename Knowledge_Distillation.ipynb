{
  "nbformat": 4,
  "nbformat_minor": 2,
  "metadata": {
    "colab": {
      "provenance": [],
      "machine_shape": "hm",
      "gpuType": "V100"
    },
    "kernelspec": {
      "name": "python3",
      "display_name": "Python 3"
    },
    "language_info": {
      "name": "python"
    },
    "accelerator": "GPU"
  },
  "cells": [
    {
      "cell_type": "markdown",
      "source": [
        "Distilling knowledge from a deep NN to a lighter NN and showing how the added weighted loss function from the deeper NN improves the accuracy of the lighter NN"
      ],
      "metadata": {}
    },
    {
      "cell_type": "code",
      "execution_count": 1,
      "source": [
        "import torch\n",
        "import torch.nn as nn\n",
        "import torch.optim as optim\n",
        "import torchvision.transforms as transforms\n",
        "import torchvision.datasets as datasets\n",
        "import numpy as np\n",
        "import matplotlib.pyplot as plt\n",
        "\n",
        "device = torch.device(\"cuda\" if torch.cuda.is_available() else \"cpu\")"
      ],
      "outputs": [],
      "metadata": {
        "id": "Ifgm2yerSzx1"
      }
    },
    {
      "cell_type": "code",
      "execution_count": 2,
      "source": [
        "transforms_cifar = transforms.Compose([\n",
        "    transforms.ToTensor(),\n",
        "    transforms.Normalize(mean=[0.485, 0.456, 0.406], std=[0.229, 0.224, 0.225]),\n",
        "])\n",
        "\n",
        "train_dataset = datasets.CIFAR10(root='./data', train=True, download=True, transform=transforms_cifar)\n",
        "test_dataset = datasets.CIFAR10(root='./data', train=False, download=True, transform=transforms_cifar)\n",
        "train_dataset.data[0].shape"
      ],
      "outputs": [
        {
          "output_type": "stream",
          "name": "stdout",
          "text": [
            "Downloading https://www.cs.toronto.edu/~kriz/cifar-10-python.tar.gz to ./data/cifar-10-python.tar.gz\n"
          ]
        },
        {
          "output_type": "stream",
          "name": "stderr",
          "text": [
            "100%|██████████| 170498071/170498071 [00:05<00:00, 29587284.91it/s]\n"
          ]
        },
        {
          "output_type": "stream",
          "name": "stdout",
          "text": [
            "Extracting ./data/cifar-10-python.tar.gz to ./data\n",
            "Files already downloaded and verified\n"
          ]
        },
        {
          "output_type": "execute_result",
          "data": {
            "text/plain": [
              "(32, 32, 3)"
            ]
          },
          "metadata": {},
          "execution_count": 2
        }
      ],
      "metadata": {
        "colab": {
          "base_uri": "https://localhost:8080/"
        },
        "id": "GVEgGPDeS3Lu",
        "outputId": "665a1668-cd52-4c48-f1b0-194e7d1255dd"
      }
    },
    {
      "cell_type": "code",
      "execution_count": 3,
      "source": [
        "sample, label = train_dataset[1]\n",
        "print(sample.shape)\n",
        "print(train_dataset.classes[label])\n",
        "plt.imshow(sample.transpose(0, 2).transpose(0, 1))"
      ],
      "outputs": [
        {
          "output_type": "stream",
          "name": "stderr",
          "text": [
            "WARNING:matplotlib.image:Clipping input data to the valid range for imshow with RGB data ([0..1] for floats or [0..255] for integers).\n"
          ]
        },
        {
          "output_type": "stream",
          "name": "stdout",
          "text": [
            "torch.Size([3, 32, 32])\n",
            "truck\n"
          ]
        },
        {
          "output_type": "execute_result",
          "data": {
            "text/plain": [
              "<matplotlib.image.AxesImage at 0x7bddfc505f30>"
            ]
          },
          "metadata": {},
          "execution_count": 3
        },
        {
          "output_type": "display_data",
          "data": {
            "image/png": "[encoded data removed]",
            "text/plain": [
              "<Figure size 640x480 with 1 Axes>"
            ]
          },
          "metadata": {}
        }
      ],
      "metadata": {
        "colab": {
          "base_uri": "https://localhost:8080/",
          "height": 498
        },
        "id": "Z-GN8apnVN79",
        "outputId": "0960c4d7-03e9-4430-f1d3-926088c8c64d"
      }
    },
    {
      "cell_type": "code",
      "execution_count": 4,
      "source": [
        "train_loader = torch.utils.data.DataLoader(train_dataset, batch_size=128, shuffle=True, num_workers=2)\n",
        "test_loader = torch.utils.data.DataLoader(test_dataset, batch_size=128, shuffle=False, num_workers=2)"
      ],
      "outputs": [],
      "metadata": {
        "id": "8fUN9pUkfGCe"
      }
    },
    {
      "cell_type": "code",
      "execution_count": 5,
      "source": [
        "class TeacherNN(nn.Module):\n",
        "    def __init__(self, num_classes=10):\n",
        "        super(TeacherNN, self).__init__()\n",
        "        self.features = nn.Sequential(\n",
        "            nn.Conv2d(3, 128, kernel_size=3, padding=1),\n",
        "            nn.ReLU(),\n",
        "            nn.Conv2d(128, 64, kernel_size=3, padding=1),\n",
        "            nn.ReLU(),\n",
        "            nn.MaxPool2d(kernel_size=2, stride=2),\n",
        "            nn.Conv2d(64, 64, kernel_size=3, padding=1),\n",
        "            nn.ReLU(),\n",
        "            nn.Conv2d(64, 32, kernel_size=3, padding=1),\n",
        "            nn.ReLU(),\n",
        "            nn.MaxPool2d(kernel_size=2, stride=2),\n",
        "        )\n",
        "        self.classifier = nn.Sequential(\n",
        "            nn.Linear(2048, 512),\n",
        "            nn.ReLU(),\n",
        "            nn.Dropout(0.1),\n",
        "            nn.Linear(512, num_classes)\n",
        "        )\n",
        "\n",
        "    def forward(self, x):\n",
        "        x = self.features(x)\n",
        "        x = torch.flatten(x, 1)\n",
        "        x = self.classifier(x)\n",
        "        return x\n",
        "\n",
        "class StudentNN(nn.Module):\n",
        "    def __init__(self, num_classes=10):\n",
        "        super(StudentNN, self).__init__()\n",
        "        self.features = nn.Sequential(\n",
        "            nn.Conv2d(3, 16, kernel_size=3, padding=1),\n",
        "            nn.ReLU(),\n",
        "            nn.MaxPool2d(kernel_size=2, stride=2),\n",
        "            nn.Conv2d(16, 16, kernel_size=3, padding=1),\n",
        "            nn.ReLU(),\n",
        "            nn.MaxPool2d(kernel_size=2, stride=2),\n",
        "        )\n",
        "        self.classifier = nn.Sequential(\n",
        "            nn.Linear(1024, 256),\n",
        "            nn.ReLU(),\n",
        "            nn.Dropout(0.1),\n",
        "            nn.Linear(256, num_classes)\n",
        "        )\n",
        "\n",
        "    def forward(self, x):\n",
        "        x = self.features(x)\n",
        "        x = torch.flatten(x, 1)\n",
        "        x = self.classifier(x)\n",
        "        return x"
      ],
      "outputs": [],
      "metadata": {
        "id": "n-CodYlwTBfp"
      }
    },
    {
      "cell_type": "code",
      "execution_count": 6,
      "source": [
        "def train(model,train_loader,epochs,learning_rate,device):\n",
        "  loss_function = nn.CrossEntropyLoss()\n",
        "  optimizer = optim.Adam(model.parameters(),lr=learning_rate)\n",
        "  model.train()\n",
        "  for epoch in range(epochs):\n",
        "    running_loss = 0.0\n",
        "    for inputs, labels in train_loader:\n",
        "      inputs,labels = inputs.to(device),labels.to(device)\n",
        "      optimizer.zero_grad()\n",
        "      output = model(inputs)\n",
        "      loss = loss_function(output,labels)\n",
        "      running_loss += loss.item()\n",
        "      loss.backward()\n",
        "      optimizer.step()\n",
        "    print(f\"Epoch {epoch+1}/{epochs}, Loss: {running_loss / len(train_loader)}\")\n",
        "\n",
        "def test(model, test_loader, device):\n",
        "    model.to(device)\n",
        "    model.eval()\n",
        "    correct = 0\n",
        "    total = 0\n",
        "    with torch.no_grad():\n",
        "        for inputs, labels in test_loader:\n",
        "            inputs, labels = inputs.to(device), labels.to(device)\n",
        "            outputs = model(inputs)\n",
        "            _, predicted = torch.max(outputs.data, 1)\n",
        "            total += labels.size(0)\n",
        "            correct += (predicted == labels).sum().item()\n",
        "    accuracy = 100 * correct / total\n",
        "    print(f\"Test Accuracy: {accuracy:.2f}%\")\n",
        "    return accuracy"
      ],
      "outputs": [],
      "metadata": {
        "id": "Mj0yfsQAUM7K"
      }
    },
    {
      "cell_type": "code",
      "execution_count": 7,
      "source": [
        "torch.manual_seed(42)\n",
        "nn_teacher = TeacherNN(num_classes=10).to(device)\n",
        "train(nn_teacher, train_loader, epochs=10, learning_rate=0.001, device=device)\n",
        "test_accuracy_teacher = test(nn_teacher, test_loader, device)"
      ],
      "outputs": [
        {
          "output_type": "stream",
          "name": "stdout",
          "text": [
            "Epoch 1/10, Loss: 1.3351048443018627\n",
            "Epoch 2/10, Loss: 0.8652533602226725\n",
            "Epoch 3/10, Loss: 0.6774153832889274\n",
            "Epoch 4/10, Loss: 0.534406826014409\n",
            "Epoch 5/10, Loss: 0.41630250962493975\n",
            "Epoch 6/10, Loss: 0.3150814324617386\n",
            "Epoch 7/10, Loss: 0.2365481399780954\n",
            "Epoch 8/10, Loss: 0.1724029124411933\n",
            "Epoch 9/10, Loss: 0.14350938386357653\n",
            "Epoch 10/10, Loss: 0.13105618443025652\n",
            "Test Accuracy: 74.67%\n"
          ]
        }
      ],
      "metadata": {
        "colab": {
          "base_uri": "https://localhost:8080/"
        },
        "id": "JIoociuNe0eU",
        "outputId": "870cf643-f012-472b-faf4-dc7c4a2568af"
      }
    },
    {
      "cell_type": "code",
      "execution_count": 9,
      "source": [
        "nn_student_no_dist = StudentNN(num_classes=10).to(device)\n",
        "train(nn_student_no_dist, train_loader, epochs=10, learning_rate=0.001, device=device)\n",
        "test_accuracy_student_no_dist = test(nn_student_no_dist, test_loader, device)"
      ],
      "outputs": [
        {
          "output_type": "stream",
          "name": "stdout",
          "text": [
            "Epoch 1/10, Loss: 1.5403955068124835\n",
            "Epoch 2/10, Loss: 1.207079107346742\n",
            "Epoch 3/10, Loss: 1.0776958243011514\n",
            "Epoch 4/10, Loss: 0.9801685442704984\n",
            "Epoch 5/10, Loss: 0.9004086076146196\n",
            "Epoch 6/10, Loss: 0.8332757330916422\n",
            "Epoch 7/10, Loss: 0.7752251204322366\n",
            "Epoch 8/10, Loss: 0.7197453613628817\n",
            "Epoch 9/10, Loss: 0.6755900248847044\n",
            "Epoch 10/10, Loss: 0.6292206643487487\n",
            "Test Accuracy: 68.99%\n"
          ]
        }
      ],
      "metadata": {
        "colab": {
          "base_uri": "https://localhost:8080/"
        },
        "id": "Uem5HHijgAxR",
        "outputId": "3f112ea1-b44b-444e-c581-95ff0a7197cc"
      }
    },
    {
      "cell_type": "code",
      "execution_count": 10,
      "source": [
        "torch.manual_seed(42)\n",
        "nn_student_dist = StudentNN(num_classes=10).to(device)"
      ],
      "outputs": [],
      "metadata": {
        "id": "CPoh3CxggVsG"
      }
    },
    {
      "cell_type": "code",
      "execution_count": 11,
      "source": [
        "def train_with_knowledge_dist(student_model, teacher_model, train_loader, epochs, T, learning_rate, soft_target_loss_weight, student_loss_weight, device):\n",
        "  loss_function = nn.CrossEntropyLoss()\n",
        "  optimizer = optim.Adam(student_model.parameters(),lr=learning_rate)\n",
        "  student_model.train()\n",
        "  teacher_model.eval()\n",
        "  for epoch in range(epochs):\n",
        "    running_loss = 0.0\n",
        "    for inputs, labels in train_loader:\n",
        "      inputs,labels = inputs.to(device),labels.to(device)\n",
        "      optimizer.zero_grad()\n",
        "      with torch.no_grad():\n",
        "        teacher_logits = teacher_model(inputs)\n",
        "\n",
        "      student_logits = student_model(inputs)\n",
        "      student_loss = loss_function(student_logits,labels)\n",
        "\n",
        "      soft_teacher = nn.functional.softmax(teacher_logits / T, dim=-1)\n",
        "      soft_student = nn.functional.log_softmax(student_logits / T, dim=-1)\n",
        "      soft_targets_loss = -torch.sum(soft_teacher * soft_student) / soft_student.size()[0] * (T**2)\n",
        "\n",
        "      loss = student_loss*student_loss_weight + soft_targets_loss*soft_target_loss_weight\n",
        "\n",
        "      running_loss += loss.item()\n",
        "      loss.backward()\n",
        "      optimizer.step()\n",
        "\n",
        "    print(f\"Epoch {epoch+1}/{epochs}, Loss: {running_loss / len(train_loader)}\")\n"
      ],
      "outputs": [],
      "metadata": {
        "id": "Tu5yi-kShLD8"
      }
    },
    {
      "cell_type": "code",
      "execution_count": 12,
      "source": [
        "train_with_knowledge_dist(nn_student_dist, nn_teacher, train_loader, epochs=10, T=2 , soft_target_loss_weight=0.25,student_loss_weight=0.75, learning_rate=0.001, device=device)\n",
        "test_accuracy_student_dist = test(nn_student_dist, test_loader, device)"
      ],
      "outputs": [
        {
          "output_type": "stream",
          "name": "stdout",
          "text": [
            "Epoch 1/10, Loss: 2.7075596459381415\n",
            "Epoch 2/10, Loss: 2.2070359881881556\n",
            "Epoch 3/10, Loss: 1.9941644003933958\n",
            "Epoch 4/10, Loss: 1.8329281227667924\n",
            "Epoch 5/10, Loss: 1.71321067694203\n",
            "Epoch 6/10, Loss: 1.6093560716380244\n",
            "Epoch 7/10, Loss: 1.5141683954107181\n",
            "Epoch 8/10, Loss: 1.4265213220015815\n",
            "Epoch 9/10, Loss: 1.3481333920412966\n",
            "Epoch 10/10, Loss: 1.2778168695662029\n",
            "Test Accuracy: 70.59%\n"
          ]
        }
      ],
      "metadata": {
        "colab": {
          "base_uri": "https://localhost:8080/"
        },
        "id": "7RzMFcofn8VG",
        "outputId": "d37dea34-e50b-44af-b49c-44a22596c5a4"
      }
    },
    {
      "cell_type": "code",
      "execution_count": null,
      "source": [],
      "outputs": [],
      "metadata": {
        "id": "Z0aeLBw1okWs"
      }
    }
  ]
}